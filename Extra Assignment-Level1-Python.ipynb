{
 "cells": [
  {
   "cell_type": "code",
   "execution_count": 1,
   "metadata": {},
   "outputs": [
    {
     "name": "stdout",
     "output_type": "stream",
     "text": [
      "Hope AI\n"
     ]
    }
   ],
   "source": [
    "print(\"Hope AI\")"
   ]
  },
  {
   "cell_type": "code",
   "execution_count": 2,
   "metadata": {},
   "outputs": [
    {
     "name": "stdout",
     "output_type": "stream",
     "text": [
      "Enter your institute name:HOPE AI\n"
     ]
    }
   ],
   "source": [
    "name=input(\"Enter your institute name:\")"
   ]
  },
  {
   "cell_type": "code",
   "execution_count": 3,
   "metadata": {},
   "outputs": [
    {
     "name": "stdout",
     "output_type": "stream",
     "text": [
      "Enter your name:Praveen Kumar Thompson\n",
      "Enter your age:37\n",
      "Enter your School name:Bethel Mat Hr Sec School\n",
      "Enter your degree:MBA\n"
     ]
    }
   ],
   "source": [
    "name=input(\"Enter your name:\")\n",
    "age=int(input(\"Enter your age:\"))\n",
    "School=input(\"Enter your School name:\")\n",
    "degree=input(\"Enter your degree:\")"
   ]
  },
  {
   "cell_type": "code",
   "execution_count": 2,
   "metadata": {},
   "outputs": [
    {
     "name": "stdout",
     "output_type": "stream",
     "text": [
      "Enter A:48\n",
      "Enter B:52\n",
      "Addition: 100\n"
     ]
    }
   ],
   "source": [
    "num1=int(input(\"Enter A:\"))\n",
    "num2=int(input(\"Enter B:\"))\n",
    "Addition=(num1+num2)\n",
    "print(\"Addition:\", Addition)"
   ]
  },
  {
   "cell_type": "code",
   "execution_count": 7,
   "metadata": {},
   "outputs": [
    {
     "name": "stdout",
     "output_type": "stream",
     "text": [
      "Enter A:48\n",
      "Enter B:52\n",
      "Subtraction: -4\n"
     ]
    }
   ],
   "source": [
    "num1=int(input(\"Enter A:\"))\n",
    "num2=int(input(\"Enter B:\"))\n",
    "Subtraction=(num1-num2)\n",
    "print(\"Subtraction:\", Subtraction)"
   ]
  },
  {
   "cell_type": "code",
   "execution_count": 9,
   "metadata": {},
   "outputs": [
    {
     "name": "stdout",
     "output_type": "stream",
     "text": [
      "Enter A:48\n",
      "Enter B:52\n",
      "Multiplication: 2496\n"
     ]
    }
   ],
   "source": [
    "num1=int(input(\"Enter A:\"))\n",
    "num2=int(input(\"Enter B:\"))\n",
    "Multiplication=(num1*num2)\n",
    "print(\"Multiplication:\", Multiplication)"
   ]
  },
  {
   "cell_type": "code",
   "execution_count": 26,
   "metadata": {},
   "outputs": [
    {
     "name": "stdout",
     "output_type": "stream",
     "text": [
      "Enter A:88\n",
      "Enter B:7\n",
      "Float Division: 12.571428571428571\n"
     ]
    }
   ],
   "source": [
    "num1=int(input(\"Enter A:\"))\n",
    "num2=int(input (\"Enter B:\"))\n",
    "floatdiv=(num1/num2)\n",
    "print(\"Float Division:\", floatdiv)"
   ]
  },
  {
   "cell_type": "code",
   "execution_count": 1,
   "metadata": {},
   "outputs": [
    {
     "name": "stdout",
     "output_type": "stream",
     "text": [
      "Enter A:88\n",
      "Enter B:7\n",
      "Floor Division: 12\n"
     ]
    }
   ],
   "source": [
    "num1=int(input(\"Enter A:\"))\n",
    "num2=int(input (\"Enter B:\"))\n",
    "floordiv=(num1//num2)\n",
    "print(\"Floor Division:\", floordiv)"
   ]
  },
  {
   "cell_type": "code",
   "execution_count": 32,
   "metadata": {},
   "outputs": [
    {
     "name": "stdout",
     "output_type": "stream",
     "text": [
      "Enter A:76\n",
      "Enter B:31\n",
      "Modulo: 14\n"
     ]
    }
   ],
   "source": [
    "num1=int(input(\"Enter A:\"))\n",
    "num2=int(input(\"Enter B:\"))\n",
    "Modulo=(num1%num2)\n",
    "print(\"Modulo:\", Modulo)"
   ]
  },
  {
   "cell_type": "code",
   "execution_count": 40,
   "metadata": {},
   "outputs": [
    {
     "name": "stdout",
     "output_type": "stream",
     "text": [
      "Enter A:7\n",
      "Enter B:7\n",
      "Power: 823543\n"
     ]
    }
   ],
   "source": [
    "num1=int(input(\"Enter A:\"))\n",
    "num2=int(input(\"Enter B:\"))\n",
    "power=(num1**num2)\n",
    "print(\"Power:\", power)"
   ]
  },
  {
   "cell_type": "code",
   "execution_count": null,
   "metadata": {},
   "outputs": [],
   "source": []
  }
 ],
 "metadata": {
  "kernelspec": {
   "display_name": "Python 3",
   "language": "python",
   "name": "python3"
  },
  "language_info": {
   "codemirror_mode": {
    "name": "ipython",
    "version": 3
   },
   "file_extension": ".py",
   "mimetype": "text/x-python",
   "name": "python",
   "nbconvert_exporter": "python",
   "pygments_lexer": "ipython3",
   "version": "3.7.4"
  }
 },
 "nbformat": 4,
 "nbformat_minor": 2
}
