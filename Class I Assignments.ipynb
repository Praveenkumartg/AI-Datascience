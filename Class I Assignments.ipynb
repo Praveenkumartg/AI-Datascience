{
 "cells": [
  {
   "cell_type": "code",
   "execution_count": 277,
   "metadata": {},
   "outputs": [],
   "source": [
    "def Numbers():\n",
    "    n=int(input(\"Enter any number: \"))\n",
    "    if(n>0):\n",
    "        print(\"Number is positive.\")\n",
    "        message=\"Number is positive.\"\n",
    "    elif(n<0):\n",
    "            print(\"Number is negative.\")\n",
    "            message=\"Number is negative.\"\n",
    "    else:\n",
    "            print(n, \"is zero\")\n",
    "            message=\"is zero\"\n",
    "            return message"
   ]
  },
  {
   "cell_type": "code",
   "execution_count": 267,
   "metadata": {},
   "outputs": [],
   "source": [
    "def oddEven():\n",
    "    num=int(input(\"Enter the number:\"))\n",
    "    if((num%2)==1):\n",
    "            print(\"odd number\")\n",
    "            message=\"odd Number\"\n",
    "    else:\n",
    "            print(\"Even number\")\n",
    "            message=\"Even number\"\n",
    "            return message"
   ]
  },
  {
   "cell_type": "code",
   "execution_count": 214,
   "metadata": {},
   "outputs": [
    {
     "name": "stdout",
     "output_type": "stream",
     "text": [
      "value: 10\n",
      "Correct\n"
     ]
    }
   ],
   "source": [
    "def number():\n",
    "    num =(\"1\", \"2\", \"3\", \"4\", \"5\", \"6\", \"7\", \"8\", \"9\", \"10\")\n",
    "print (\"value:\",len(num))\n",
    "if (len(num) == 10):\n",
    "        print (\"Correct\")\n",
    "        message=\"Correct\""
   ]
  },
  {
   "cell_type": "code",
   "execution_count": 235,
   "metadata": {},
   "outputs": [],
   "source": [
    "class multipleFunctions():\n",
    "    def oddEven():\n",
    "        num=int(input(\"Enter the number:\"))\n",
    "        if((num%2)==1):\n",
    "            print(\"odd number\")\n",
    "            message=\"odd Number\"\n",
    "        else:\n",
    "            print(\"Even number\")\n",
    "            message=\"Even number\"\n",
    "            return message\n",
    "    def Numbers():\n",
    "        n=int(input(\"Enter any number: \"))\n",
    "        if(n>0):\n",
    "            print(\"Number is positive.\")\n",
    "            message=\"Number is positive.\"\n",
    "        elif(n<0):\n",
    "            print(\"Number is negative.\")\n",
    "            message=\"Number is negative.\"\n",
    "        else:\n",
    "            print(n, \"is zero\")\n",
    "            message=\"is zero\"\n",
    "            return message\n",
    "    def number():\n",
    "        num =(\"1\", \"2\", \"3\", \"4\", \"5\", \"6\", \"7\", \"8\", \"9\", \"10\")\n",
    "        print (\"value:\",len(num))\n",
    "        if (len(num) == 10):\n",
    "            print (\"Correct\")\n",
    "        message=\"Correct\"\n",
    "        return message"
   ]
  },
  {
   "cell_type": "code",
   "execution_count": 236,
   "metadata": {},
   "outputs": [
    {
     "name": "stdout",
     "output_type": "stream",
     "text": [
      "Enter any number: 4\n",
      "Number is positive.\n"
     ]
    }
   ],
   "source": [
    "multipleFunctions.Numbers()"
   ]
  },
  {
   "cell_type": "code",
   "execution_count": 173,
   "metadata": {},
   "outputs": [
    {
     "name": "stdout",
     "output_type": "stream",
     "text": [
      "Enter the number:52\n",
      "Even number\n"
     ]
    },
    {
     "data": {
      "text/plain": [
       "'Even number'"
      ]
     },
     "execution_count": 173,
     "metadata": {},
     "output_type": "execute_result"
    }
   ],
   "source": [
    "multipleFunctions.oddEven()"
   ]
  },
  {
   "cell_type": "code",
   "execution_count": 180,
   "metadata": {},
   "outputs": [
    {
     "name": "stdout",
     "output_type": "stream",
     "text": [
      "value: 10\n",
      "Correct\n"
     ]
    },
    {
     "data": {
      "text/plain": [
       "'Correct'"
      ]
     },
     "execution_count": 180,
     "metadata": {},
     "output_type": "execute_result"
    }
   ],
   "source": [
    "multipleFunctions.number()"
   ]
  }
 ],
 "metadata": {
  "kernelspec": {
   "display_name": "Python 3",
   "language": "python",
   "name": "python3"
  },
  "language_info": {
   "codemirror_mode": {
    "name": "ipython",
    "version": 3
   },
   "file_extension": ".py",
   "mimetype": "text/x-python",
   "name": "python",
   "nbconvert_exporter": "python",
   "pygments_lexer": "ipython3",
   "version": "3.7.4"
  }
 },
 "nbformat": 4,
 "nbformat_minor": 2
}
