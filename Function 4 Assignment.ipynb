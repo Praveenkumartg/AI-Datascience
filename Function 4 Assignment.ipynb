{
 "cells": [
  {
   "cell_type": "code",
   "execution_count": 67,
   "metadata": {},
   "outputs": [
    {
     "ename": "SyntaxError",
     "evalue": "'return' outside function (<ipython-input-67-4f7d8210963b>, line 4)",
     "output_type": "error",
     "traceback": [
      "\u001b[1;36m  File \u001b[1;32m\"<ipython-input-67-4f7d8210963b>\"\u001b[1;36m, line \u001b[1;32m4\u001b[0m\n\u001b[1;33m    return subfields()\u001b[0m\n\u001b[1;37m                      ^\u001b[0m\n\u001b[1;31mSyntaxError\u001b[0m\u001b[1;31m:\u001b[0m 'return' outside function\n"
     ]
    }
   ],
   "source": [
    "class subfields():\n",
    "    def subfields():\n",
    "        subfields = [\"Machine Learning\",\"Neural Networks\",\"Vision\",\"Robotics\",\"Speech Processing\",\"Natural Language Processing\"]\n",
    "return subfields()\n",
    "print(\"The subfields in AI are:\", subfields)"
   ]
  },
  {
   "cell_type": "code",
   "execution_count": 2,
   "metadata": {},
   "outputs": [
    {
     "name": "stdout",
     "output_type": "stream",
     "text": [
      "Enter the number: 48\n",
      "It is an Even Number\n"
     ]
    }
   ],
   "source": [
    "num = int(input(\"Enter the number: \"))\n",
    "if (num%2)==0:\n",
    "   print(\"It is an Even Number\")\n",
    "else:\n",
    "   print(\"It is an Odd Number\")"
   ]
  },
  {
   "cell_type": "code",
   "execution_count": 36,
   "metadata": {},
   "outputs": [
    {
     "ename": "IndentationError",
     "evalue": "expected an indented block (<ipython-input-36-0d0897fe90cf>, line 3)",
     "output_type": "error",
     "traceback": [
      "\u001b[1;36m  File \u001b[1;32m\"<ipython-input-36-0d0897fe90cf>\"\u001b[1;36m, line \u001b[1;32m3\u001b[0m\n\u001b[1;33m    Age = int(input(\"your Age: \"))\u001b[0m\n\u001b[1;37m      ^\u001b[0m\n\u001b[1;31mIndentationError\u001b[0m\u001b[1;31m:\u001b[0m expected an indented block\n"
     ]
    }
   ],
   "source": [
    "Gender = int(input(\"Your Gender: \"))\n",
    "if(Gender==\"male\"):\n",
    "Age = int(input(\"your Age: \"))\n",
    "if(Age<22):\n",
    "    print(\"Not Eligible for marriage\")\n",
    "elif (age>=22):\n",
    "    print(\"Eligible for marriage\")"
   ]
  },
  {
   "cell_type": "code",
   "execution_count": 3,
   "metadata": {},
   "outputs": [
    {
     "name": "stdout",
     "output_type": "stream",
     "text": [
      "Subject1: 85\n",
      "Subject2: 98\n",
      "Subject3: 74\n",
      "Subject4: 65\n",
      "Subject5: 85\n",
      "Total: 407\n",
      "Percentage: 81.39999999999999\n"
     ]
    }
   ],
   "source": [
    "num1 = int(input(\"Subject1: \"))\n",
    "num2 = int(input(\"Subject2: \"))\n",
    "num3 = int(input(\"Subject3: \"))\n",
    "num4 = int(input(\"Subject4: \"))\n",
    "num5 = int(input(\"Subject5: \"))\n",
    "numbers=[num1,num2,num3,num4,num5]\n",
    "Total=sum(numbers)\n",
    "Percentage=((Total)/500*100)\n",
    "print(\"Total:\",Total)\n",
    "print(\"Percentage:\",Percentage)"
   ]
  },
  {
   "cell_type": "code",
   "execution_count": 25,
   "metadata": {},
   "outputs": [
    {
     "name": "stdout",
     "output_type": "stream",
     "text": [
      "Height1: 4\n",
      "Height2: 8\n",
      "Breadth: 5\n",
      "Perimeter of Triangle: 17\n",
      "Area of Triangle: 30.0\n"
     ]
    }
   ],
   "source": [
    "Height1 = int(input(\"Height1: \"))\n",
    "Height2 = int(input(\"Height2: \"))\n",
    "Breadth = int(input(\"Breadth: \"))\n",
    "Perimeter= (Height1+Height2+Breadth)\n",
    "Area = (((Height1+Height2)*Breadth)/2)\n",
    "print(\"Perimeter of Triangle:\",Perimeter)\n",
    "print(\"Area of Triangle:\",Area)"
   ]
  },
  {
   "cell_type": "code",
   "execution_count": null,
   "metadata": {},
   "outputs": [],
   "source": []
  }
 ],
 "metadata": {
  "kernelspec": {
   "display_name": "Python 3",
   "language": "python",
   "name": "python3"
  },
  "language_info": {
   "codemirror_mode": {
    "name": "ipython",
    "version": 3
   },
   "file_extension": ".py",
   "mimetype": "text/x-python",
   "name": "python",
   "nbconvert_exporter": "python",
   "pygments_lexer": "ipython3",
   "version": "3.7.4"
  }
 },
 "nbformat": 4,
 "nbformat_minor": 2
}
