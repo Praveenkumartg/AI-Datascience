{
 "cells": [
  {
   "cell_type": "code",
   "execution_count": 3,
   "metadata": {},
   "outputs": [
    {
     "name": "stdout",
     "output_type": "stream",
     "text": [
      "The subfields in AI are:\n",
      "Machine Learning\n",
      "Neural Networks\n",
      "Vision\n",
      "Robotics\n",
      "Speech Processing\n",
      "Natural Language Processing\n",
      "The subfields in AI are: None\n"
     ]
    }
   ],
   "source": [
    "class subfields():\n",
    "    def list():\n",
    "        list = ['Machine Learning','Neural Networks','Vision','Robotics','Speech Processing','Natural Language Processing']\n",
    "        list.insert(0,\"The subfields in AI are:\")\n",
    "        for i in list:\n",
    "            print(i)\n",
    "    print(\"The subfields in AI are:\",list())"
   ]
  },
  {
   "cell_type": "code",
   "execution_count": 2,
   "metadata": {},
   "outputs": [
    {
     "name": "stdout",
     "output_type": "stream",
     "text": [
      "Enter the number: 48\n",
      "It is an Even Number\n"
     ]
    }
   ],
   "source": [
    "num = int(input(\"Enter the number: \"))\n",
    "if (num%2)==0:\n",
    "   print(\"It is an Even Number\")\n",
    "else:\n",
    "   print(\"It is an Odd Number\")"
   ]
  },
  {
   "cell_type": "code",
   "execution_count": 45,
   "metadata": {},
   "outputs": [
    {
     "name": "stdout",
     "output_type": "stream",
     "text": [
      "Enter the gender(Male,Female):Male\n",
      "Enter the age:14\n",
      "Not eligible\n"
     ]
    }
   ],
   "source": [
    "Gender=input(\"Enter the gender(Male,Female):\")\n",
    "Age=int(input(\"Enter the age:\"))\n",
    "print (\"Eligible\" if((Age>=18 and gender=='Female')or(Age>=21 and gender=='Male')) else \"Not eligible\")"
   ]
  },
  {
   "cell_type": "code",
   "execution_count": 97,
   "metadata": {},
   "outputs": [
    {
     "name": "stdout",
     "output_type": "stream",
     "text": [
      "Subject1: 99\n",
      "Subject2: 85\n",
      "Subject3: 75\n",
      "Subject4: 85\n",
      "Subject5: 65\n",
      "Total: 409\n",
      "Percentage: 81.8\n"
     ]
    }
   ],
   "source": [
    "num1 = int(input(\"Subject1: \"))\n",
    "num2 = int(input(\"Subject2: \"))\n",
    "num3 = int(input(\"Subject3: \"))\n",
    "num4 = int(input(\"Subject4: \"))\n",
    "num5 = int(input(\"Subject5: \"))\n",
    "numbers=[num1,num2,num3,num4,num5]\n",
    "Total=sum(numbers)\n",
    "Percentage=((Total)/500*100)\n",
    "print(\"Total:\",Total)\n",
    "print(\"Percentage:\",Percentage)"
   ]
  },
  {
   "cell_type": "code",
   "execution_count": 25,
   "metadata": {},
   "outputs": [
    {
     "name": "stdout",
     "output_type": "stream",
     "text": [
      "Height1: 4\n",
      "Height2: 8\n",
      "Breadth: 5\n",
      "Perimeter of Triangle: 17\n",
      "Area of Triangle: 30.0\n"
     ]
    }
   ],
   "source": [
    "Height1 = int(input(\"Height1: \"))\n",
    "Height2 = int(input(\"Height2: \"))\n",
    "Breadth = int(input(\"Breadth: \"))\n",
    "Perimeter= (Height1+Height2+Breadth)\n",
    "Area = (((Height1+Height2)*Breadth)/2)\n",
    "print(\"Perimeter of Triangle:\",Perimeter)\n",
    "print(\"Area of Triangle:\",Area)"
   ]
  },
  {
   "cell_type": "code",
   "execution_count": null,
   "metadata": {},
   "outputs": [],
   "source": []
  }
 ],
 "metadata": {
  "kernelspec": {
   "display_name": "Python 3",
   "language": "python",
   "name": "python3"
  },
  "language_info": {
   "codemirror_mode": {
    "name": "ipython",
    "version": 3
   },
   "file_extension": ".py",
   "mimetype": "text/x-python",
   "name": "python",
   "nbconvert_exporter": "python",
   "pygments_lexer": "ipython3",
   "version": "3.7.4"
  }
 },
 "nbformat": 4,
 "nbformat_minor": 2
}
